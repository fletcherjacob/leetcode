{
 "cells": [
  {
   "attachments": {},
   "cell_type": "markdown",
   "metadata": {},
   "source": [
    "# Roman Character Conversions"
   ]
  },
  {
   "attachments": {},
   "cell_type": "markdown",
   "metadata": {},
   "source": [
    "Roman numerals are represented by seven different symbols: I, V, X, L, C, D and M.\n",
    "\n",
    "\n",
    "| Symbol                                                                                                 | Value |\n",
    "|--------------------------------------------------------------------------------------------------------|-------|\n",
    "| I                                                                                                      | 1     |\n",
    "| V                                                                                                      | 5     |\n",
    "| X                                                                                                      | 10    |\n",
    "| L                                                                                                      | 50    |\n",
    "| C                                                                                                      | 100   |\n",
    "| D                                                                                                      | 500   |\n",
    "| M                                                                                                      | 1000  |\n",
    "\n",
    "For example, 2 is written as II in Roman numeral, just two ones added together. \n",
    "\n",
    "12 is written as XII, which is simply X + II. The number 27 is written as XXVII, which is XX + V + II.\n",
    "\n",
    "Roman numerals are usually written largest to smallest from left to right. <br>\n",
    "However, the numeral for four is not IIII. Instead, the number four is written as IV.<br>\n",
    "Because the one is before the five we subtract it making four. <br>\n",
    "The same principle applies to the number nine, which is written as IX. \n",
    " \n",
    "\n",
    "\n",
    "There are six instances where subtraction is used:\n",
    "\n",
    "1. I can be placed before V (5) and X (10) to make 4 and 9. \n",
    "2. X can be placed before L (50) and C (100) to make 40 and 90. \n",
    "3. C can be placed before D (500) and M (1000) to make 400 and 900.\n",
    "\n",
    "Given a roman numeral, convert it to an integer."
   ]
  },
  {
   "cell_type": "code",
   "execution_count": 270,
   "metadata": {},
   "outputs": [],
   "source": [
    "class Solution:\n",
    "   def romanToInt(self, s: str) -> int:\n",
    "    symbol_dict = {'I' : 1,\n",
    "            'V':5,\n",
    "            'X':10,\n",
    "            \"L\": 50,\n",
    "            \"C\": 100,\n",
    "            \"D\": 500,\n",
    "            \"M\": 1000\n",
    "            }\n",
    "\n",
    "    replace_dict = {\n",
    "        \"IV\" : 4,\n",
    "        \"IX\": 9,\n",
    "        \"XL\": 40,\n",
    "        \"XC\": 90,\n",
    "        \"CD\" :400,\n",
    "        \"CM\": 900\n",
    "    }\n",
    "\n",
    "    new_list = []\n",
    "    for item in replace_dict.keys():\n",
    "        if item in s:\n",
    "            new_list.append(replace_dict[item])\n",
    "            s = s.replace(str(item),'')\n",
    "    \n",
    "\n",
    "    for val in s:\n",
    "        new_list.append(symbol_dict[val])\n",
    "\n",
    "\n",
    "    return sum(new_list)"
   ]
  },
  {
   "cell_type": "code",
   "execution_count": 271,
   "metadata": {},
   "outputs": [
    {
     "data": {
      "text/plain": [
       "1994"
      ]
     },
     "execution_count": 271,
     "metadata": {},
     "output_type": "execute_result"
    }
   ],
   "source": [
    "s = \"MCMXCIV\"\n",
    "romanToInt(self=None,s=s)\n"
   ]
  },
  {
   "cell_type": "code",
   "execution_count": 272,
   "metadata": {},
   "outputs": [
    {
     "data": {
      "text/plain": [
       "3"
      ]
     },
     "execution_count": 272,
     "metadata": {},
     "output_type": "execute_result"
    }
   ],
   "source": [
    "s = 'III'\n",
    "romanToInt(self=None,s=s)"
   ]
  },
  {
   "cell_type": "code",
   "execution_count": 273,
   "metadata": {},
   "outputs": [
    {
     "data": {
      "text/plain": [
       "58"
      ]
     },
     "execution_count": 273,
     "metadata": {},
     "output_type": "execute_result"
    }
   ],
   "source": [
    "s = \"LVIII\"\n",
    "romanToInt(self=None,s=s)"
   ]
  }
 ],
 "metadata": {
  "kernelspec": {
   "display_name": "disaster_pipeline",
   "language": "python",
   "name": "python3"
  },
  "language_info": {
   "codemirror_mode": {
    "name": "ipython",
    "version": 3
   },
   "file_extension": ".py",
   "mimetype": "text/x-python",
   "name": "python",
   "nbconvert_exporter": "python",
   "pygments_lexer": "ipython3",
   "version": "3.11.3"
  },
  "orig_nbformat": 4
 },
 "nbformat": 4,
 "nbformat_minor": 2
}
